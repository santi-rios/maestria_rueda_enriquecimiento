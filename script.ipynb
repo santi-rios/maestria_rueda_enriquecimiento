import pandas as pd

# Importar los datos
file_path = '/mnt/datos/datos_mario.csv'
data = pd.read_csv(file_path)

# Ver primeras columnas de nuestros datos
data.head()

import numpy as np


# Convertir horas a formato datetime para hacer el analisis
data['time'] = pd.to_datetime(data['hour'], format='%H:%M').dt.time

# Calcular la distancia con la circunferencia
wheel_diameter_cm = 16
wheel_circumference_cm = np.pi * wheel_diameter_cm

# Fimción para calcular distancia recorrida por grupo
def compute_distance(spins):
    return spins * wheel_circumference_cm / 100  # Convert cm to meters

# Añadir columna dia con incremento cada vez que la columna == 0:00
data['day'] = (data['time'] == data['time'].min()).cumsum()


# Calcular la distancia recorrida por grupo
data['treatment_distance'] = compute_distance(data['treatment'])
data['control_distance'] = compute_distance(data['control'])

# Agrupar por dia y hacer suma de distancias por cada tratmaiento
daily_distances = data.groupby('day').agg({
    'treatment_distance': 'sum',
    'control_distance': 'sum'
}).reset_index()

daily_distances.head()

import matplotlib.pyplot as plt


# Graficar el analisis de tiempo
plt.figure(figsize=(14, 7))
plt.plot(daily_distances['day'], daily_distances['treatment_distance'], marker='o', label='Treatment Group')
plt.plot(daily_distances['day'], daily_distances['control_distance'], marker='s', label='Control Group')

plt.title('Distancia diaria recorrida por tratamiento y control')
plt.xlabel('Dia')
plt.ylabel('Distancia recorrida (metros)')
plt.legend()
plt.grid(True)
plt.show()
